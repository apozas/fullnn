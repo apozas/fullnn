{
 "cells": [
  {
   "cell_type": "markdown",
   "metadata": {},
   "source": [
    "# Computational appendix of [Phys. Rev. Lett. 128, 010403 (2022)](https://journals.aps.org/prl/abstract/10.1103/PhysRevLett.128.010403)\n",
    "---\n",
    "In this notebook we perform a setp-by-step implementation of the hybrid classical-nonsignaling inflation of the bilocal scenario presented in [Phys. Rev. Lett. 128, 010403 (2022)](https://journals.aps.org/prl/abstract/10.1103/PhysRevLett.128.010403) [[arXiv:2105.09325](https://www.arxiv.org/abs/2105.09325)] and obtain the full network nonlocality witnesses presented there, namely Equations (6-7) and (F1-F2).\n",
    "\n",
    "Authors: Alejandro Pozas-Kerstjens\n",
    "\n",
    "Requires: [mosek](https://www.mosek.com/), [numpy](https://numpy.org/), [picos](https://picos-api.gitlab.io/picos/)<=2.2, [qutip](http://qutip.org/), [sympy](https://www.sympy.org/)\n",
    "\n",
    "Last updated: 21 May, 2021\n",
    "\n",
    "## Introduction\n",
    "In this notebook we follow Appendix C of the manuscript in order to implement the linear program arising from application of the [inflation technique](https://www.degruyter.com/document/doi/10.1515/jci-2017-0020/html) to detect whether a tripartite distribution admits a realisation in the bilocal network when one of the sources is assumed to be classical and the other one distributes a general no-signaling resource. We will begin by implementing step by step the linear program in Equation (C6) through direct implementation of Equations (C1-C5), solving the problem, extracting the associated certificate of infeasibility, and deriving from it the full network nonlocality witness in Equation (6) in the manuscript. Next, we will make use of the advanced manipulation of linear programs offered by [picos](https://picos-api.gitlab.io/picos/) in order to simplify the derivation of Equations (7) and (F1-F2).\n",
    "\n",
    "## Analysing the distribution based on the Elegant Joint Measurement\n",
    "We begin by importing the necessary libraries and by defining functions that we will use throughout the first part of the notebook, including the definition of the distribution based on the [Elegant Joint Measurement](https://arxiv.org/abs/2006.16694) over noisy singlets, and the function that sets and solves a linear program of the form $$\\text{find } \\mathbf{x} \\text{ such that } A\\cdot \\mathbf{x} \\geq \\mathbf{b}.$$"
   ]
  },
  {
   "cell_type": "code",
   "execution_count": 1,
   "metadata": {},
   "outputs": [],
   "source": [
    "import mosek\n",
    "import numpy as np\n",
    "import qutip as qt\n",
    "import sympy as sp\n",
    "\n",
    "from itertools import product\n",
    "from math import pi as π"
   ]
  },
  {
   "cell_type": "code",
   "execution_count": 2,
   "metadata": {},
   "outputs": [],
   "source": [
    "oA=2; mA=3; oB=4; oC=2; mC=3;\n",
    "\n",
    "m = np.array([[ 1,  1,  1],\n",
    "              [ 1, -1, -1],\n",
    "              [-1,  1, -1],\n",
    "              [-1, -1,  1]])\n",
    "\n",
    "l = r'\\langle{}'; r = r'\\rangle{}';    # For pretty visuals"
   ]
  },
  {
   "cell_type": "code",
   "execution_count": 3,
   "metadata": {},
   "outputs": [],
   "source": [
    "class ZeroObject(object):\n",
    "    '''Required for summing lists of constraints'''\n",
    "    def __add__(self, other):\n",
    "        return other\n",
    "\n",
    "\n",
    "def to_indices(position):\n",
    "    '''\n",
    "    Returns a linear index for each input-output configuration\n",
    "    \n",
    "    :param position: list of inputs and outputs\n",
    "    :type position: list of ints\n",
    "    \n",
    "    :returns: linear index of the configuration\n",
    "    '''\n",
    "    a, b1, b2, c1, c2, x, z1, z2 = position\n",
    "    return (oB**2 * oC**2 * mA * mC**2 * a\n",
    "            + oB * oC**2 * mA * mC**2 * b1\n",
    "            + oC**2 * mA * mC**2 * b2\n",
    "            + oC * mA * mC**2 * c1\n",
    "            + mA * mC**2 * c2\n",
    "            + mC**2 * x\n",
    "            + mC * z1\n",
    "            + z2)\n",
    "\n",
    "\n",
    "def EJMtheta(θ, v):\n",
    "    '''\n",
    "    Produces the distribution, defined on Eq. (B2) of the manuscript, based on\n",
    "    the Elegant Joint Measurement\n",
    "    \n",
    "    :param θ: Angle of the EJM performed in Bob\n",
    "    :type θ: float\n",
    "    :param v: Visibility per singlet\n",
    "    :type v: float\n",
    "    \n",
    "    :returns: array containing the distribution. The entry p[a,b,c,x,z]\n",
    "              corresponds to p(a,b,c|x,z)\n",
    "    '''\n",
    "    ψminus = qt.ket2dm(qt.singlet_state())\n",
    "    ψminus.dims = [[4], [4]]\n",
    "    id2 = qt.qeye(2); id4 = qt.qeye(4);\n",
    "\n",
    "    ρ = qt.tensor([v*ψminus+(1-v)*id4/4, v*ψminus+(1-v)*id4/4])\n",
    "    ρ.dims = [[2, 4, 2], [2, 4, 2]]\n",
    "\n",
    "    A = C = [qt.sigmax(), qt.sigmay(), qt.sigmaz()]\n",
    "    ηs = [1/np.sqrt(3), -1/np.sqrt(3), -1/np.sqrt(3), 1/np.sqrt(3)]\n",
    "    ϕs = [π/4, -π/4, 3*π/4, -3*π/4]\n",
    "\n",
    "    plusm  = np.zeros((4,2), dtype=complex)\n",
    "    minusm = np.zeros((4,2), dtype=complex)\n",
    "    ejm    = [0, 0, 0, 0]\n",
    "    B      = []\n",
    "\n",
    "    for j in range(oB):\n",
    "        plusm[j]  = [np.sqrt((1+ηs[j])/2)*np.exp(-1j*ϕs[j]/2),\n",
    "                     np.sqrt((1-ηs[j])/2)*np.exp(1j*ϕs[j]/2)]\n",
    "        minusm[j] = [np.sqrt((1-ηs[j])/2)*np.exp(-1j*ϕs[j]/2),\n",
    "                     -np.sqrt((1+ηs[j])/2)*np.exp(1j*ϕs[j]/2)]\n",
    "        ejm[j]    = qt.Qobj((\n",
    "        ((np.sqrt(3)+np.exp(1j*θ))/(2*np.sqrt(2)))*np.kron(plusm[j],minusm[j])\n",
    "        + ((np.sqrt(3)-np.exp(1j*θ))/(2*np.sqrt(2)))*np.kron(minusm[j],plusm[j])\n",
    "        ))\n",
    "        B.append(qt.ket2dm(ejm[j]))\n",
    "\n",
    "    p = np.zeros((oA,oB,oC,mA,mC))\n",
    "    for a in range(oA):\n",
    "        for b in range(oB):\n",
    "            for c in range(oC):\n",
    "                for x in range(mA):\n",
    "                    for z in range(mC):\n",
    "                        p[a,b,c,x,z] = np.real(ρ.overlap(\n",
    "                       qt.tensor([id2+(-1)**a*A[x], B[b], id2+(-1)**c*C[z]]))/4)\n",
    "    return p\n",
    "\n",
    "\n",
    "def set_lp(A, b, solve=False):\n",
    "    '''\n",
    "    Sets and (optionally) solves the linear program A.x >= b\n",
    "    \n",
    "    :param A: Matrix of the coefficients of each variable in every constraint\n",
    "    :type A:  2-D array\n",
    "    :param b: Vector of lower bounds for each constraint\n",
    "    :type b:  1-D array\n",
    "    :param solve: (Optionally) solve the linear program\n",
    "    :type solve:  Bool\n",
    "    \n",
    "    :returns: If solve=False, the MOSEK problem.\n",
    "              If solve=True and the LP is feasible, an array with the optimal\n",
    "              solution and None.\n",
    "              If solve=True and the LP is infeasible, an array with None and a\n",
    "              certificate of infeasibility\n",
    "    '''\n",
    "    # Make mosek environment\n",
    "    task = mosek.Env().Task(0, 0)\n",
    "\n",
    "    # Generate the placeholder for the constraints.\n",
    "    # The constraints will initially have no bounds.\n",
    "    task.appendcons(n_constraints)\n",
    "\n",
    "    # Generate the variables in the problem.\n",
    "    # The variables will initially be fixed at zero (x=0).\n",
    "    task.appendvars(dims)\n",
    "\n",
    "    for j in range(dims):\n",
    "        # Set the bounds on variable j. We allow them to be free variables\n",
    "        task.putvarbound(j, mosek.boundkey.fr, 0, 0)\n",
    "\n",
    "    for i in range(n_constraints):\n",
    "        # Set the constraints.\n",
    "        # Select the variables that are involved and the associated coefficients\n",
    "        indices = np.nonzero(LPA[i,:])[0]\n",
    "        \n",
    "        task.putarow(i,                  # Variable (column) index.\n",
    "                     indices,            # Row index of non-zeros in column j.\n",
    "                     LPA[i,indices])     # Non-zero Values of column j.\n",
    "        \n",
    "        # Set lower bounds\n",
    "        task.putconbound(i, mosek.boundkey.lo, LPb[i], 0)\n",
    "\n",
    "    if solve:\n",
    "        # Solve the problem\n",
    "        task.optimize()\n",
    "\n",
    "        # Get status information about the solution\n",
    "        solsta = task.getsolsta(mosek.soltype.bas)\n",
    "\n",
    "        if (solsta == mosek.solsta.optimal):\n",
    "            xx = [0.] * dims\n",
    "            task.getxx(mosek.soltype.bas, xx)    # Request the basic solution\n",
    "            print('Optimal solution: ')\n",
    "            for i in range(dims):\n",
    "                print('x[' + str(i) + ']=' + str(xx[i]))\n",
    "            return xx, None\n",
    "        elif (solsta == mosek.solsta.dual_infeas_cer or\n",
    "              solsta == mosek.solsta.prim_infeas_cer):\n",
    "            y = [0.] * n_constraints\n",
    "            task.gety(mosek.soltype.bas, y)    # Request the certificate\n",
    "            print('Primal or dual infeasibility certificate found')\n",
    "            return None, y\n",
    "        elif solsta == mosek.solsta.unknown:\n",
    "            print('Unknown solution status')\n",
    "        else:\n",
    "            print('Other solution status')\n",
    "    else:\n",
    "        return task"
   ]
  },
  {
   "cell_type": "markdown",
   "metadata": {},
   "source": [
    "Inflation is a general procedure to derive constraints that a probability distribution must satisfy in order to be possible to produce it in a particular causal structure. These constraints are produced by analysing the distributions that could be generated by having access to multiple copies of the elements of the causal structure. For instance, if one wanted to analyse the kind of distributions that could be generated in the bilocal network below\n",
    "\n",
    "<img src='bilocality.png' width='250' height='250'>\n",
    "\n",
    "where $\\lambda$ represents a source of classical randomness and $NS$ is a source of a general no-signaling resource. If given access to multiple copies of the measurement devices $A$, $B$ and $C$, and of the sources $\\lambda$ and $NS$, one may wonder what properties the distribution in the following inflation\n",
    "\n",
    "<img src='bilocalitynsc.png' width='250' height='250'>\n",
    "\n",
    "would satisfy. Note that, since $\\lambda$ emits classical randomness that can be cloned, we have simply cloned the information sent to Bob in order to send the same information to both copies now available. On the contrary, the information encoded in non-classical systems (both quantum and supra-quantum) cannot be cloned, and thus we cannot copy the information sent by $NS$, but we can consider copies of the source itself.\n",
    "\n",
    "### Deriving Equation 6\n",
    "Before analysing the characteristics of the distributions that can be generated in the inflation, let us initialise a few useful quantities: the number of variables in the problem, the number of constraints of each type that we will encounter, the matrix $A$ and the vector $\\mathbf{b}$, and a symbolic representation of the original probability distribution. The matrix $A$ has as many rows as constraints, and as many columns as variables in the problem, while the length of the vector $\\mathbf{b}$ equates to the number of constraints that will be imposed on the variables."
   ]
  },
  {
   "cell_type": "code",
   "execution_count": 4,
   "metadata": {},
   "outputs": [],
   "source": [
    "dims = oA*oB*oB*oC*oC*mA*mC*mC\n",
    "\n",
    "n_pos_const = dims\n",
    "n_norm_const = mA*mC*mC\n",
    "n_nsA_const = (mA-1)*oB*oB*oC*oC*mC*mC\n",
    "n_nsC_const = 2*(mC-1)*oA*oB*oB*oC*mA*mC\n",
    "n_inf_const = (dims - oA*oB*oC*mA*mC)//2  # All except when b1=b2, c1=c2, z1=z2\n",
    "n_marginals_const = oA*oB*oC*oC*mA*mC*mC\n",
    "n_constraints = n_pos_const + 2*(n_norm_const + n_nsA_const + n_nsC_const\n",
    "                                 + n_inf_const + n_marginals_const)\n",
    "\n",
    "LPA = np.zeros((n_constraints, dims))\n",
    "LPb = np.zeros((n_constraints))\n",
    "symbolicb = np.zeros((n_constraints), dtype=object)\n",
    "\n",
    "symp = np.zeros((oA,oB,oC,mA,mC), dtype=object)\n",
    "for a in range(oA):\n",
    "    for b in range(oB):\n",
    "        for c in range(oC):\n",
    "            for x in range(mA):\n",
    "                for z in range(mC):\n",
    "                    symp[a,b,c,x,z] = sp.symbols('p('+str(a)+str(b)+str(c)+\n",
    "                                                 '|'+str(x)+str(z)+')')"
   ]
  },
  {
   "cell_type": "markdown",
   "metadata": {},
   "source": [
    "The first property that the probability distribution (and any probability distribution) must satisfy is that its elements are all positive. This is Equation C1 in the manuscript. If we want these to be the first constraints imposed on the vector $\\mathbf{x}$, this implies that the top-left block of the matrix $A$ is $\\mathbb{1}_{\\text{len}(\\mathbf{x}),\\text{len}(\\mathbf{x})}$, and the first $\\text{len}(\\mathbf{x})$ elements of $\\mathbf{b}$ are zero."
   ]
  },
  {
   "cell_type": "code",
   "execution_count": 5,
   "metadata": {},
   "outputs": [],
   "source": [
    "# Positivity\n",
    "np.fill_diagonal(LPA[:dims, :dims], 1)\n",
    "i = n_pos_const"
   ]
  },
  {
   "cell_type": "markdown",
   "metadata": {},
   "source": [
    "Second, for every possible choice of $x$, $z^1$ and $z^2$, the distribution is normalised (see Equation C2 in the manuscript). These are equality constraints, which we impose using two rows in $A$ for each: one encoding $\\sum_{a,b^1,b^2,c^1,c^2}p_\\text{inf}(a,b^1,b^2,c^1,c^2|x,z^1,z^2) \\geq 1$ and another encoding $-\\sum_{a,b^1,b^2,c^1,c^2}p_\\text{inf}(a,b^1,b^2,c^1,c^2|x,z^1,z^2) \\geq -1$."
   ]
  },
  {
   "cell_type": "code",
   "execution_count": 6,
   "metadata": {},
   "outputs": [],
   "source": [
    "# Normalisation\n",
    "for x, z1, z2 in product(range(mA), range(mC), range(mC)):\n",
    "    outputs = np.array(list(product(range(oA), range(oB), range(oB),\n",
    "                                    range(oC), range(oC))))\n",
    "    inputs = np.array([[x, z1, z2],]*len(outputs))\n",
    "    all_indices = np.hstack([outputs, inputs])\n",
    "    positions = np.apply_along_axis(to_indices, 1, all_indices)\n",
    "    LPA[i, positions] = 1\n",
    "    LPb[i] = 1\n",
    "    symbolicb[i] = 1\n",
    "    LPA[i+n_norm_const, positions] = -1\n",
    "    LPb[i+n_norm_const] = -1\n",
    "    symbolicb[i+n_norm_const] = -1\n",
    "    i += 1\n",
    "if i == n_pos_const + n_norm_const:\n",
    "    i = n_pos_const + 2*n_norm_const\n",
    "else:\n",
    "    print('There is a counting problem. You may have forgotten constraints')"
   ]
  },
  {
   "cell_type": "markdown",
   "metadata": {},
   "source": [
    "Next, in Equation C3 one finds the no-signaling constraints, which ensure that the parties cannot communicate their choice of input to the rest. This is achieved by imposing that the marginal over a party's outcome is insensitive to the input chosen by that party, this is, that $\\sum_{a}p_\\text{inf}(a,b^1,b^2,c^1,c^2|x,z^1,z^2) = \\sum_{a}p_\\text{inf}(a,b^1,b^2,c^1,c^2|x',z^1,z^2)$ for any choice of $b^1$, $b^2$, $c^1$, $c^2$, $x$, $x'$, $z^1$ and $z^2$, and analogously for parties Charlie${}^1$ and Charlie${}^2$. If Bob had a choice of input as well, similar constraints should be imposed."
   ]
  },
  {
   "cell_type": "code",
   "execution_count": 7,
   "metadata": {},
   "outputs": [],
   "source": [
    "# No-signaling A\n",
    "for x,b1,b2,c1,c2,z1,z2 in product(range(1, mA), range(oB), range(oB),\n",
    "                                   range(oC), range(oC), range(mC), range(mC)):\n",
    "    index1 = to_indices([0,b1,b2,c1,c2,0,z1,z2])\n",
    "    index2 = to_indices([1,b1,b2,c1,c2,0,z1,z2])\n",
    "    index3 = to_indices([0,b1,b2,c1,c2,x,z1,z2])\n",
    "    index4 = to_indices([1,b1,b2,c1,c2,x,z1,z2])\n",
    "    LPA[i, [index1, index2]] = 1\n",
    "    LPA[i, [index3, index4]] = -1\n",
    "    LPA[i+n_nsA_const, [index1, index2]] = -1\n",
    "    LPA[i+n_nsA_const, [index3, index4]] = 1\n",
    "    i += 1\n",
    "if i == n_pos_const + 2*n_norm_const+n_nsA_const:\n",
    "    i = n_pos_const + 2*(n_norm_const+n_nsA_const)\n",
    "else:\n",
    "    print('There is a counting problem. You may have forgotten constraints')\n",
    "    \n",
    "# No-signaling C1\n",
    "for z,a,b1,b2,c2,x,z2 in product(range(1, mC), range(oA), range(oB), range(oB),\n",
    "                                 range(oC), range(mA), range(mC)):\n",
    "    index1 = to_indices([a,b1,b2,0,c2,x,0,z2])\n",
    "    index2 = to_indices([a,b1,b2,1,c2,x,0,z2])\n",
    "    index3 = to_indices([a,b1,b2,0,c2,x,z,z2])\n",
    "    index4 = to_indices([a,b1,b2,1,c2,x,z,z2])\n",
    "    LPA[i, [index1, index2]] = 1\n",
    "    LPA[i, [index3, index4]] = -1\n",
    "    LPA[i+int(n_nsC_const/2), [index1, index2]] = -1\n",
    "    LPA[i+int(n_nsC_const/2), [index3, index4]] = 1\n",
    "    i += 1\n",
    "if i == n_pos_const + 2*(n_norm_const+n_nsA_const)+n_nsC_const/2:\n",
    "    i = int(n_pos_const + 2*(n_norm_const+n_nsA_const+n_nsC_const/2))\n",
    "else:\n",
    "    print('There is a counting problem. You may have forgotten constraints')\n",
    "\n",
    "# No-signaling C2\n",
    "for z,a,b1,b2,c1,x,z1 in product(range(1, mC), range(oA), range(oB), range(oB),\n",
    "                                 range(oC), range(mA), range(mC)):\n",
    "    index1 = to_indices([a,b1,b2,c1,0,x,z1,0])\n",
    "    index2 = to_indices([a,b1,b2,c1,1,x,z1,0])\n",
    "    index3 = to_indices([a,b1,b2,c1,0,x,z1,z])\n",
    "    index4 = to_indices([a,b1,b2,c1,1,x,z1,z])\n",
    "    LPA[i, [index1, index2]] = 1\n",
    "    LPA[i, [index3, index4]] = -1\n",
    "    LPA[i+int(n_nsC_const/2), [index1, index2]] = -1\n",
    "    LPA[i+int(n_nsC_const/2), [index3, index4]] = 1\n",
    "    i += 1\n",
    "if i == n_pos_const + 2*(n_norm_const+n_nsA_const)+3*n_nsC_const/2:\n",
    "    i = int(n_pos_const + 2*(n_norm_const+n_nsA_const+n_nsC_const))\n",
    "else:\n",
    "    print('There is a counting problem. You may have forgotten constraints')"
   ]
  },
  {
   "cell_type": "markdown",
   "metadata": {},
   "source": [
    "The crucial part to inflation is the symmetry of the probability distribution that is inherited by the fact that the elements in the inflated network are exact copies of the elements in the original network. Since $B^1$ is identical to $B^2$, $C^1$ is identical to $C^2$, $NS^1$ is identical to $NS^2$, and $\\lambda$ sends the exact same information to both $B^1$ and $B^2$, the distributions that are generated in the inflated network must be insensitive to the swap $1\\leftrightarrow 2$. This is captured by Equation C4 in the manuscript, namely $p_\\text{inf}(a,b^1,b^2,c^1,c^2|x,z^1,z^2) = p_\\text{inf}(a,b^2,b^1,c^2,c^1|x,z^2,z^1)$."
   ]
  },
  {
   "cell_type": "code",
   "execution_count": 8,
   "metadata": {},
   "outputs": [],
   "source": [
    "# Inflation\n",
    "used_indices = []\n",
    "for a,b1,b2,c1,c2,x,z1,z2 in product(range(oA), range(oB), range(oB), range(oC),\n",
    "                                     range(oC), range(mA), range(mC), range(mC)):\n",
    "    index1 = to_indices([a,b1,b2,c1,c2,x,z1,z2])    # Original distribution\n",
    "    used_indices.append(index1)\n",
    "    index2 = to_indices([a,b2,b1,c2,c1,x,z2,z1])    # Swapping B1C1Z1<->B2C2Z2\n",
    "    if (index1 != index2) and index2 not in used_indices:\n",
    "        LPA[i, index1] = 1\n",
    "        LPA[i, index2] = -1\n",
    "        LPA[i+n_inf_const, index1] = -1\n",
    "        LPA[i+n_inf_const, index2] = 1\n",
    "        i += 1\n",
    "if i == n_pos_const + 2*(n_norm_const+n_nsA_const+n_nsC_const)+n_inf_const:\n",
    "    i = n_pos_const + 2*(n_norm_const+n_nsA_const+n_nsC_const+n_inf_const)\n",
    "else:\n",
    "    print('There is a counting problem. You may have forgotten constraints')"
   ]
  },
  {
   "cell_type": "markdown",
   "metadata": {},
   "source": [
    "Finally, if the outcome of one of the copies of Bob is disregarded, one notices that Alice, the remaining Bob, and its associated Charlie, are precisely reproducing the original network and thus their measurement outcomes will follow the statistics dictated by the original distribution. Moreover, the remaining Charlie is also measuring on his share of the original resource. This means that $\\sum_{b^2}p_\\text{inf}(a,b^1,b^2,c^1,c^2|x,z^1,z^2) = p_\\text{orig}(a,b^1,c^1|x,z^1)p_\\text{orig}(c^2|z^2)$, captured in Equation C5 in the manuscript. Note that one could also trace Bob${}^1$ instead, having new constraints. These can, however, be derived from the ones implemented below and the inflation constraints above."
   ]
  },
  {
   "cell_type": "code",
   "execution_count": 9,
   "metadata": {},
   "outputs": [],
   "source": [
    "# Matching original probabilities\n",
    "orig = EJMtheta(π/4, 0.9)\n",
    "for a,b,c1,c2,x,z1,z2 in product(range(oA), range(oB), range(oC), range(oC),\n",
    "                                 range(mA), range(mC), range(mC)):\n",
    "    indices = [to_indices([a,b,b2,c1,c2,x,z1,z2]) for b2 in range(oB)]\n",
    "    LPA[i, indices] = 1\n",
    "    LPb[i] = orig[a,b,c1,x,z1]*sum(sum(orig[:,:,c2,0,z2]))\n",
    "    symbolicb[i] = symp[a,b,c1,x,z1]*sum(sum(symp[:,:,c2,0,z2]))\n",
    "    LPA[i+n_marginals_const, indices] = -1\n",
    "    LPb[i+n_marginals_const] = -orig[a,b,c1,x,z1]*sum(sum(orig[:,:,c2,0,z2]))\n",
    "    symbolicb[i+n_marginals_const] = -symp[a,b,c1,x,z1]*sum(sum(symp[:,:,c2,0,z2]))\n",
    "    i += 1\n",
    "if i == n_pos_const + 2*(n_norm_const+n_nsA_const+n_nsC_const+n_inf_const)+n_marginals_const:\n",
    "    i = n_pos_const + 2*(n_norm_const+n_nsA_const+n_nsC_const+n_inf_const+n_marginals_const)\n",
    "else:\n",
    "    print('There is a counting problem. You may have forgotten constraints')"
   ]
  },
  {
   "cell_type": "markdown",
   "metadata": {},
   "source": [
    "Now that all the constraints are captured in $A$ and $\\mathbf{b}$, we solve the linear program in Equation C6 in the manuscript."
   ]
  },
  {
   "cell_type": "code",
   "execution_count": 10,
   "metadata": {},
   "outputs": [
    {
     "name": "stdout",
     "output_type": "stream",
     "text": [
      "Primal or dual infeasibility certificate found\n"
     ]
    }
   ],
   "source": [
    "[xsol, y] = set_lp(LPA, LPb, True)"
   ]
  },
  {
   "cell_type": "markdown",
   "metadata": {},
   "source": [
    "The problem is infeasible, i.e., it has no solution. Since all the derived constraints are conditions satisfied if a distribution $p$ can be generated in the bilocal scenario, this result means that the distribution we have tested, $p^{0.9}_{\\pi/4}$, cannot be generated in a bilocal scenario where the $A-B$ source is classical and the $B-C$ source is no-signaling.\n",
    "\n",
    "[Farkas' lemma](https://en.wikipedia.org/wiki/Farkas'_lemma) guarantees that, if no solution exists to a linear program of the form $A\\cdot\\mathbf{x}\\geq \\mathbf{b}$, then there exists a vector $\\mathbf{y}$ such that $\\mathbf{y}\\cdot A=\\mathbf{0}$ and $\\mathbf{y}\\cdot\\mathbf{b} > 0$, which is called a certificate. We can extract such certificate from the problem solved, and check that it indeed satisfies its properties."
   ]
  },
  {
   "cell_type": "code",
   "execution_count": 11,
   "metadata": {},
   "outputs": [
    {
     "name": "stdout",
     "output_type": "stream",
     "text": [
      "Σ|y.A| =  0.0\n",
      "y.b =  0.0012\n"
     ]
    }
   ],
   "source": [
    "y = np.array(y)\n",
    "y[abs(y) < 1e-6] = 0\n",
    "print('Σ|y.A| = ', round(sum(abs(y @ LPA)), 4))\n",
    "print('y.b = ', round(y @ LPb, 4))"
   ]
  },
  {
   "cell_type": "markdown",
   "metadata": {},
   "source": [
    "Notably, since the dependence on the distribution under scrutiny is exclusively contained in the vector $\\mathbf{b}$, the extracted certificate $\\mathbf{y}$ will certify the infeasibility not just of the tested $p_\\text{obs}$, but also of any distribution for which $\\mathbf{y}\\cdot\\mathbf{b}(p_\\text{obs}) > 0$. We can thus create an abstract $\\mathbf{b}(p_\\text{obs})$ (in fact, we have been filling it at the same time we were filling $\\mathbf{b}$), and evaluate $\\mathbf{y}\\cdot\\mathbf{b}(p_\\text{obs})$."
   ]
  },
  {
   "cell_type": "code",
   "execution_count": 12,
   "metadata": {},
   "outputs": [],
   "source": [
    "expA = np.array(sp.symbols([l + 'A_{' + str(x+1) + '}' + r for x in range(mA)]))\n",
    "expB = np.array(sp.symbols([l + 'B_{' + str(y+1) + '}' + r for y in range(3)]))\n",
    "expC = np.array(sp.symbols([l + 'C_{' + str(z+1) + '}' + r for z in range(mC)]))\n",
    "expAB = np.array(sp.symbols([[l + 'A_{' + str(x+1) + '}B_{' + str(y+1) + '}' + r\n",
    "                              for y in range(3)] for x in range(mA)]))\n",
    "expAC = np.array(sp.symbols([[l + 'A_{' + str(x+1) + '}C_{' + str(z+1) + '}' + r\n",
    "                              for z in range(mC)] for x in range(mA)]))\n",
    "expBC = np.array(sp.symbols([[l + 'B_{' + str(y+1) + '}C_{' + str(z+1) + '}' + r\n",
    "                              for z in range(mC)] for y in range(3)]))\n",
    "expABC = np.array(sp.symbols([[[l+'A_{'+str(x)+'}B_{'+str(y)+'}C_{'+str(z)+'}'+r\n",
    "                                for z in range(1, mC+1)]\n",
    "                               for y in range(1, 4)]\n",
    "                              for x in range(1, mA+1)]))"
   ]
  },
  {
   "cell_type": "code",
   "execution_count": 13,
   "metadata": {},
   "outputs": [],
   "source": [
    "probs = [symp[a,b,c,x,z]\n",
    "         for a, b, c, x, z in product(range(oA), range(oB), range(oC),\n",
    "                                      range(mA), range(mC))]\n",
    "corrs = [(1 + (-1)**a*expA[x] + m[b]@expB + (-1)**c*expC[z]\n",
    "          + (-1)**a*m[b]@expAB[x,:] + (-1)**c*m[b]@expBC[:,z]\n",
    "          + (-1)**(a+c)*expA[x]*expC[z]\n",
    "          + (-1)**(a+c)*m[b]@expABC[x,:,z])/16\n",
    "         for a, b, c, x, z in product(range(oA), range(oB), range(oC),\n",
    "                                      range(mA), range(mC))]"
   ]
  },
  {
   "cell_type": "code",
   "execution_count": 14,
   "metadata": {},
   "outputs": [
    {
     "data": {
      "text/latex": [
       "$\\displaystyle - \\langle{}A_{1}B_{2}C_{3}\\rangle{} + \\langle{}A_{1}B_{2}\\rangle{} \\langle{}C_{3}\\rangle{} + \\langle{}A_{2}B_{2}C_{3}\\rangle{} \\langle{}C_{3}\\rangle{} - \\langle{}A_{2}B_{2}\\rangle{} + \\langle{}C_{3}\\rangle{}^{2} - 1$"
      ],
      "text/plain": [
       "-\\langle{}A_{1}B_{2}C_{3}\\rangle{} + \\langle{}A_{1}B_{2}\\rangle{}*\\langle{}C_{3}\\rangle{} + \\langle{}A_{2}B_{2}C_{3}\\rangle{}*\\langle{}C_{3}\\rangle{} - \\langle{}A_{2}B_{2}\\rangle{} + \\langle{}C_{3}\\rangle{}**2 - 1"
      ]
     },
     "execution_count": 14,
     "metadata": {},
     "output_type": "execute_result"
    }
   ],
   "source": [
    "sp.nsimplify(\n",
    "    sp.expand(\n",
    "            (8*y.T @ symbolicb).subs(zip(probs, corrs))), tolerance=1e-6)"
   ]
  },
  {
   "cell_type": "markdown",
   "metadata": {},
   "source": [
    "This expression, which is positive for full-network-nonlocal distributions, is precisely Equation 6 in the manuscript. There, it is formulated in such a way that full network nonlocality is witnessed when the inequality is violated.\n",
    "\n",
    "## Simplifying the implementation\n",
    "Writing explicitly $A$ and $\\mathbf{b}$ for an inflation problem may be tedious in some situations, especially when considering large networks or many copies of the network elements. However, it is not necessary to generate them explicitly if using libraries such as [picos](https://picos-api.gitlab.io/picos/). In the following, we resort to picos for generating and solving the linear programs necessitated for deriving Equations (6-7) and (F1-F2)."
   ]
  },
  {
   "cell_type": "code",
   "execution_count": 15,
   "metadata": {},
   "outputs": [],
   "source": [
    "import picos as pic"
   ]
  },
  {
   "cell_type": "markdown",
   "metadata": {},
   "source": [
    "### Deriving (again) Equation 6"
   ]
  },
  {
   "cell_type": "code",
   "execution_count": 16,
   "metadata": {},
   "outputs": [],
   "source": [
    "def set_problem_C_NS(prob_dist, solve=False):\n",
    "    '''\n",
    "    Sets and (optionally) solves the LP associated to the feasibility of a\n",
    "    tripartite distribution admitting an inflation of the form of Figure 3 in\n",
    "    the manuscript.\n",
    "    \n",
    "    :param prob_dist: The probability distribution under scrutiny\n",
    "    :type prob_dist:  5-D array\n",
    "    :param solve: (Optionally) solve the linear program\n",
    "    :type solve:  Bool\n",
    "    \n",
    "    :returns: If solve=False, the PICOS problem.\n",
    "              If solve=True and the LP is feasible, an array with the optimal\n",
    "              solution and [None, None].\n",
    "              If solve=True and the LP is infeasible, an array with None and a\n",
    "              certificate of infeasibility, split into the components associated\n",
    "              to normalisation constraints, and the components associated to\n",
    "              constraints of matching with observed probabilities.    \n",
    "    '''\n",
    "    oA, oB, oC, mA, mC = prob_dist.shape\n",
    "    probabilities = pic.RealVariable('pinf',\n",
    "                                   shape=oA*oB*oB*oC*oC*mA*mC*mC,\n",
    "                                   lower=0)\n",
    "    pinf = np.reshape(probabilities, (oA,oB,oB,oC,oC,mA,mC,mC))\n",
    "\n",
    "    # Normalisation\n",
    "    norm_const = [probsum == 1\n",
    "                  for probsum in np.sum(pinf, (0, 1, 2, 3, 4)\n",
    "                                       ).flatten().tolist()]\n",
    "\n",
    "    # No-signaling A\n",
    "    nsA_const = [[] for _ in range(mA-1)]\n",
    "    nsA_0_terms = np.sum(pinf[:,:,:,:,:,0,:,:], 0)\n",
    "    for x in range(1, mA):\n",
    "        nsA_x_terms = np.sum(pinf[:,:,:,:,:,x,:,:], 0)\n",
    "        nsA_const[x-1] = [term == 0\n",
    "                          for term in (nsA_0_terms\n",
    "                                       - nsA_x_terms).flatten().tolist()]\n",
    "    nsA_const = sum(nsA_const, ZeroObject())\n",
    "\n",
    "    # No-signaling C\n",
    "    nsC1_const = [[] for _ in range(mC-1)]\n",
    "    nsC1_0_terms = np.sum(pinf[:,:,:,:,:,:,0,:], 3)\n",
    "    nsC2_const = [[] for _ in range(mC-1)]\n",
    "    nsC2_0_terms = np.sum(pinf[:,:,:,:,:,:,:,0], 4)\n",
    "    for z in range(1, mC):\n",
    "        nsC1_z_terms = np.sum(pinf[:,:,:,:,:,:,z,:], 3)\n",
    "        nsC1_const[z-1] = [term == 0\n",
    "                           for term in (nsC1_0_terms\n",
    "                                        - nsC1_z_terms).flatten().tolist()]\n",
    "        nsC2_z_terms = np.sum(pinf[:,:,:,:,:,:,:,z], (4))\n",
    "        nsC2_const[z-1] = [term == 0\n",
    "                           for term in (nsC2_0_terms\n",
    "                                        - nsC2_z_terms).flatten().tolist()]\n",
    "\n",
    "    nsC_const = sum(nsC1_const, ZeroObject()) + sum(nsC2_const, ZeroObject())\n",
    "\n",
    "    # Inflation\n",
    "    inf_const = [term == 0\n",
    "                 for term in (pinf-np.transpose(pinf, [0,2,1,4,3,5,7,6])\n",
    "                             ).flatten().tolist()]\n",
    "\n",
    "    # Matching original probabilities\n",
    "    marginal = np.zeros((oA,oB,oC,oC,mA,mC,mC))\n",
    "    for c2 in range(oC):\n",
    "        for z2 in range(mC):\n",
    "            marginal[:,:,:,c2,:,:,z2] = prob_dist*np.sum(prob_dist[:,:,c2,0,z2])\n",
    "\n",
    "    marginal_const = [term == 0\n",
    "                      for term in (np.sum(pinf, 2)-marginal).flatten().tolist()]\n",
    "    \n",
    "    # Set up the problem\n",
    "    problem = pic.Problem()\n",
    "    for const in norm_const+nsC_const+nsA_const+inf_const+marginal_const:\n",
    "        problem.add_constraint(const)\n",
    "\n",
    "    # Solve if requested\n",
    "    if solve:\n",
    "        try:\n",
    "            problem.solve(solver='mosek')\n",
    "            print('Optimal solution found')\n",
    "            return [np.reshape(probabilities.value,\n",
    "                               (oA,oB,oB,oC,oC,mA,mC,mC)), [None, None]]\n",
    "        except pic.SolutionFailure:\n",
    "            print('The problem is infeasible. Getting certificate...')\n",
    "            problem.solve(solver='mosek', primals=False)            \n",
    "            print('Primal or dual infeasibility certificate found')\n",
    "            ynorm     = np.array([const.dual for const in norm_const])\n",
    "            ymarginal = np.array([const.dual for const in marginal_const])\n",
    "            ynorm[abs(ynorm) < 1e-6] = 0\n",
    "            ymarginal[abs(ymarginal) < 1e-6] = 0\n",
    "            return [None, [ynorm, ymarginal]]\n",
    "    else:\n",
    "        return problem"
   ]
  },
  {
   "cell_type": "markdown",
   "metadata": {},
   "source": [
    "Note that, in case of finding an infeasible problem, the only sectors of $\\mathbf{b}$ that are returned are those corresponding to the normalisation and matching constraints, since for the rest the corresponding entries in $\\mathbf{b}$ are all zero."
   ]
  },
  {
   "cell_type": "code",
   "execution_count": 17,
   "metadata": {},
   "outputs": [
    {
     "name": "stdout",
     "output_type": "stream",
     "text": [
      "The problem is infeasible. Getting certificate...\n",
      "Primal or dual infeasibility certificate found\n"
     ]
    }
   ],
   "source": [
    "[pinf, [ynorm, ymarginal]] = set_problem_C_NS(EJMtheta(π/4, 0.9), solve=True)"
   ]
  },
  {
   "cell_type": "markdown",
   "metadata": {},
   "source": [
    "Now that the infeasibility has been detected, we generate the inequality"
   ]
  },
  {
   "cell_type": "code",
   "execution_count": 18,
   "metadata": {},
   "outputs": [
    {
     "data": {
      "text/latex": [
       "$\\displaystyle - \\langle{}A_{2}B_{3}C_{1}\\rangle{} + \\langle{}A_{2}B_{3}\\rangle{} \\langle{}C_{1}\\rangle{} + \\langle{}A_{3}B_{3}C_{1}\\rangle{} \\langle{}C_{1}\\rangle{} - \\langle{}A_{3}B_{3}\\rangle{} + \\langle{}C_{1}\\rangle{}^{2} - 1$"
      ],
      "text/plain": [
       "-\\langle{}A_{2}B_{3}C_{1}\\rangle{} + \\langle{}A_{2}B_{3}\\rangle{}*\\langle{}C_{1}\\rangle{} + \\langle{}A_{3}B_{3}C_{1}\\rangle{}*\\langle{}C_{1}\\rangle{} - \\langle{}A_{3}B_{3}\\rangle{} + \\langle{}C_{1}\\rangle{}**2 - 1"
      ]
     },
     "execution_count": 18,
     "metadata": {},
     "output_type": "execute_result"
    }
   ],
   "source": [
    "marginalsymb = np.zeros((oA,oB,oC,oC,mA,mC,mC), dtype=object)\n",
    "for c2 in range(oC):\n",
    "    for z2 in range(mC):\n",
    "        marginalsymb[:,:,:,c2,:,:,z2] = symp * np.sum(symp[:,:,c2,0,z2])\n",
    "            \n",
    "sp.nsimplify(sp.expand((\n",
    "                        8*(ymarginal @ marginalsymb.flatten() + sum(ynorm))\n",
    "                        ).subs(zip(probs, corrs))), tolerance=1e-6)"
   ]
  },
  {
   "cell_type": "markdown",
   "metadata": {},
   "source": [
    "This is the same witness as above, if performing the relabeling $P_i\\rightarrow P_{i - 1}$ for every party $P$, with $P_0=P_3$.\n",
    "\n",
    "## Deriving Equation 7\n",
    "Equation 7 in the manuscript is obtained when contrasting $p^v_\\theta$ against a hybrid bilocal model where the classical source is shared by Bob and Charlie. We can easily set up the corresponding inflation and solve the associated linear program."
   ]
  },
  {
   "cell_type": "code",
   "execution_count": 19,
   "metadata": {},
   "outputs": [],
   "source": [
    "def set_problem_NS_C(prob_dist, solve=False):\n",
    "    '''\n",
    "    Sets and (optionally) solves the LP associated to the feasibility of a\n",
    "    tripartite distribution admitting an inflation of the form of Figure 3 in\n",
    "    the manuscript, with the roles of Alice and Charlie swapped.\n",
    "    \n",
    "    :param prob_dist: The probability distribution under scrutiny\n",
    "    :type prob_dist:  5-D array\n",
    "    :param solve: (Optionally) solve the linear program\n",
    "    :type solve:  Bool\n",
    "    \n",
    "    :returns: If solve=False, the PICOS problem.\n",
    "              If solve=True and the LP is feasible, an array with the optimal\n",
    "              solution and [None, None].\n",
    "              If solve=True and the LP is infeasible, an array with None and a\n",
    "              certificate of infeasibility, split into the components associated\n",
    "              to normalisation constraints, and the components associated to\n",
    "              constraints of matching with observed probabilities.    \n",
    "    '''\n",
    "    oA, oB, oC, mA, mC = prob_dist.shape\n",
    "    probabilities = pic.RealVariable('pinf',\n",
    "                                   shape=oA*oA*oB*oB*oC*mA*mA*mC,\n",
    "                                   lower=0)\n",
    "    pinf = np.reshape(probabilities, (oA,oA,oB,oB,oC,mA,mA,mC))\n",
    "\n",
    "    norm_const = [probsum == 1\n",
    "                  for probsum in np.sum(pinf,(0, 1, 2, 3, 4)\n",
    "                                       ).flatten().tolist()]\n",
    "\n",
    "    nsA1_const = [[] for _ in range(mA-1)]\n",
    "    nsA1_0_terms = np.sum(pinf[:,:,:,:,:,0,:,:], 0)\n",
    "    nsA2_const = [[] for _ in range(mA-1)]\n",
    "    nsA2_0_terms = np.sum(pinf[:,:,:,:,:,:,0,:], 1)\n",
    "    for x in range(1, mA):\n",
    "        nsA1_x_terms = np.sum(pinf[:,:,:,:,:,x,:,:], 0)\n",
    "        nsA1_const[x-1] = [term == 0\n",
    "                           for term in (nsA1_0_terms\n",
    "                                        - nsA1_x_terms).flatten().tolist()]\n",
    "        nsA2_x_terms = np.sum(pinf[:,:,:,:,:,:,x,:], 1)\n",
    "        nsA2_const[x-1] = [term == 0\n",
    "                           for term in (nsA2_0_terms\n",
    "                                        - nsA2_x_terms).flatten().tolist()]\n",
    "\n",
    "    nsA_const = sum(nsA1_const, ZeroObject()) + sum(nsA2_const, ZeroObject())\n",
    "    \n",
    "    nsC_const = [[] for _ in range(mC-1)]\n",
    "    nsC_0_terms = np.sum(pinf[:,:,:,:,:,:,:,0], 4)\n",
    "    for z in range(1, mC):\n",
    "        nsC_z_terms = np.sum(pinf[:,:,:,:,:,:,:,z], 4)\n",
    "        nsC_const[z-1] = [term == 0\n",
    "                          for term in (nsC_0_terms\n",
    "                                       - nsC_z_terms).flatten().tolist()]\n",
    "    nsC_const = sum(nsC_const, ZeroObject())\n",
    "\n",
    "    inf_const = [term == 0\n",
    "                 for term in (pinf-np.transpose(pinf, [1,0,3,2,4,6,5,7])\n",
    "                             ).flatten().tolist()]\n",
    "\n",
    "    marginal = np.zeros((oA,oA,oB,oC,mA,mA,mC))\n",
    "    for a2 in range(oA):\n",
    "        for x2 in range(mA):\n",
    "            marginal[:,a2,:,:,:,x2,:] = prob_dist*np.sum(prob_dist[a2,:,:,x2,0])\n",
    "\n",
    "    marginal_const = [term == 0\n",
    "                      for term in (np.sum(pinf, 2)-marginal).flatten().tolist()]\n",
    "    \n",
    "    problem = pic.Problem()\n",
    "    for const in norm_const+nsC_const+nsA_const+inf_const+marginal_const:\n",
    "        problem.add_constraint(const)\n",
    "\n",
    "    if solve:\n",
    "        try:\n",
    "            problem.solve(solver='mosek')\n",
    "            print('Optimal solution found')\n",
    "            return [np.reshape(probabilities.value,\n",
    "                               (oA,oA,oB,oB,oC,mA,mA,mC)), None]\n",
    "        except pic.SolutionFailure:\n",
    "            print('The problem is infeasible. Getting certificate...')\n",
    "            problem.solve(solver='mosek', primals=False)            \n",
    "            print('Primal or dual infeasibility certificate found')\n",
    "            ynorm     = np.array([const.dual for const in norm_const])\n",
    "            ymarginal = np.array([const.dual for const in marginal_const])\n",
    "            ynorm[abs(ynorm) < 1e-6] = 0\n",
    "            ymarginal[abs(ymarginal) < 1e-6] = 0\n",
    "            return [None, [ynorm, ymarginal]]\n",
    "    else:\n",
    "        return problem"
   ]
  },
  {
   "cell_type": "code",
   "execution_count": 20,
   "metadata": {},
   "outputs": [
    {
     "name": "stdout",
     "output_type": "stream",
     "text": [
      "The problem is infeasible. Getting certificate...\n",
      "Primal or dual infeasibility certificate found\n"
     ]
    }
   ],
   "source": [
    "[pinf, [ynorm, ymarginal]] = set_problem_NS_C(EJMtheta(π/4, 0.9), solve=True)"
   ]
  },
  {
   "cell_type": "code",
   "execution_count": 21,
   "metadata": {},
   "outputs": [
    {
     "data": {
      "text/latex": [
       "$\\displaystyle - \\langle{}A_{3}B_{1}C_{1}\\rangle{} \\langle{}A_{3}\\rangle{} - \\langle{}A_{3}B_{1}C_{2}\\rangle{} + \\langle{}A_{3}\\rangle{}^{2} + \\langle{}A_{3}\\rangle{} \\langle{}B_{1}C_{2}\\rangle{} + \\langle{}B_{1}C_{1}\\rangle{} - 1$"
      ],
      "text/plain": [
       "-\\langle{}A_{3}B_{1}C_{1}\\rangle{}*\\langle{}A_{3}\\rangle{} - \\langle{}A_{3}B_{1}C_{2}\\rangle{} + \\langle{}A_{3}\\rangle{}**2 + \\langle{}A_{3}\\rangle{}*\\langle{}B_{1}C_{2}\\rangle{} + \\langle{}B_{1}C_{1}\\rangle{} - 1"
      ]
     },
     "execution_count": 21,
     "metadata": {},
     "output_type": "execute_result"
    }
   ],
   "source": [
    "marginalsymb = np.zeros((oA,oA,oB,oC,mA,mA,mC), dtype=object)\n",
    "for a2 in range(oA):\n",
    "    for x2 in range(mA):\n",
    "        marginalsymb[:,a2,:,:,:,x2,:] = symp * np.sum(symp[a2,:,:,x2,0])\n",
    "\n",
    "sp.nsimplify(sp.expand((\n",
    "                        8*(ymarginal @ marginalsymb.flatten() + sum(ynorm))\n",
    "                        ).subs(zip(probs, corrs))), tolerance=1e-6)"
   ]
  },
  {
   "cell_type": "markdown",
   "metadata": {},
   "source": [
    "This is the same witness as that in Equation 8 in the manuscript, if performing the relabeling $P_i\\rightarrow P_{i + 1}$ for every party $P$, with $P_4=P_1$. Note that the distribution $p_{\\pi/4}^{0.9}$ violates both witnesses of incompatibility with $\\lambda-NS$ models and with $NS-\\lambda$ models, and thus, _it is fully network nonlocal_.\n",
    "\n",
    "# Witnesses for the distribution based on the Bell state measurement\n",
    "Finally, we provide full network Bell witnesses for the bilocal scenario which admits a quantum violation based on a protocol that is comparatively convenient for implementation in optical systems. Instead of Bob performing an Elegant Joint Measurement, he performs a three-outcome, imperfect Bell state measurement where he can perfectly distinguish the states $\\phi^{\\pm}=\\frac{|00\\rangle\\pm|11\\rangle}{\\sqrt{2}}$, but cannot distinguish between $\\psi^{\\pm}=\\frac{|01\\rangle\\pm|10\\rangle}{\\sqrt{2}}$. The procedure is exactly the same as that followed in the remainder of the notebook."
   ]
  },
  {
   "cell_type": "code",
   "execution_count": 22,
   "metadata": {},
   "outputs": [],
   "source": [
    "oA=2; oB=3; oC=2; mA=2; mC=2;\n",
    "\n",
    "def BSMprob(v):\n",
    "    '''\n",
    "    Produces the distribution, defined on Appendix F of the manuscript, based on\n",
    "    the imperfect Bell state measurement\n",
    "    \n",
    "    :param v: Visibility per singlet\n",
    "    :type v: float\n",
    "    \n",
    "    :returns: array containing the distribution. The entry p[a,b,c,x,z]\n",
    "              corresponds to p(a,b,c|x,z)\n",
    "    '''\n",
    "    ϕplus  = qt.ket2dm(qt.bell_state('00'))\n",
    "    ϕminus = qt.ket2dm(qt.bell_state('01'))\n",
    "    id2 = qt.qeye(2); id4 = qt.qeye(4)\n",
    "    id4.dims = [[2, 2], [2, 2]]\n",
    "\n",
    "    ρ = qt.tensor([v*ϕplus+(1-v)*id4/4, v*ϕplus+(1-v)*id4/4])\n",
    "    ρ.dims = [[2, 4, 2], [2, 4, 2]]\n",
    "\n",
    "    A = [qt.sigmax(), qt.sigmaz()]\n",
    "    B = [ϕplus, ϕminus, id4 - ϕplus - ϕminus]\n",
    "    for proj in B:\n",
    "        proj.dims = [[4], [4]]\n",
    "    C = [(qt.sigmaz() + qt.sigmax()) / np.sqrt(2),\n",
    "         (qt.sigmaz() - qt.sigmax()) / np.sqrt(2)]\n",
    "\n",
    "    probBSM = np.zeros((oA,oB,oC,mA,mC))\n",
    "    for a in range(oA):\n",
    "        for b in range(oB):\n",
    "            for c in range(oC):\n",
    "                for x in range(mA):\n",
    "                    for z in range(mC):\n",
    "                        probBSM[a,b,c,x,z] = np.real(ρ.overlap(\n",
    "                           qt.tensor([id2+(-1)**a*A[x],\n",
    "                                      B[b],\n",
    "                                      id2+(-1)**c*C[z]])\n",
    "                                     )/4)\n",
    "    return probBSM"
   ]
  },
  {
   "cell_type": "code",
   "execution_count": 23,
   "metadata": {},
   "outputs": [],
   "source": [
    "symp = np.zeros((oA,oB,oC,mA,mC), dtype='object')\n",
    "for a in range(oA):\n",
    "    for b in range(oB):\n",
    "        for c in range(oC):\n",
    "            for x in range(mA):\n",
    "                for z in range(mC):\n",
    "                    symp[a,b,c,x,z] = sp.symbols('p('+str(a)+str(b)+str(c)+\n",
    "                                                 '|'+str(x)+str(z)+')')\n",
    "\n",
    "expA = np.array(sp.symbols([l + 'A_{' + str(x) + '}' + r for x in range(mA)]))\n",
    "expB = np.array(sp.symbols([l + 'B_{' + str(y) + '}' + r for y in range(2)]))\n",
    "expC = np.array(sp.symbols([l + 'C_{' + str(z) + '}' + r for z in range(mC)]))\n",
    "expAB = np.array(sp.symbols([[l + 'A_{' + str(x) + '}B_{' + str(y) + '}' + r\n",
    "                              for y in range(2)]\n",
    "                             for x in range(mA)]))\n",
    "expAC = np.array(sp.symbols([[l + 'A_{' + str(x) + '}C{' + str(z) + '}' + r\n",
    "                              for z in range(mC)]\n",
    "                             for x in range(mA)]))\n",
    "expBC = np.array(sp.symbols([[l + 'B_{' + str(y) + '}C_{' + str(z) + '}' + r\n",
    "                              for z in range(mC)]\n",
    "                             for y in range(2)]))\n",
    "expABC = np.array(sp.symbols([[[l+'A_{'+str(x)+'}B_{'+str(y)+'}C_{'+str(z)+'}'+r\n",
    "                                for z in range(mC)]\n",
    "                               for y in range(2)]\n",
    "                              for x in range(mA)]))"
   ]
  },
  {
   "cell_type": "code",
   "execution_count": 24,
   "metadata": {},
   "outputs": [],
   "source": [
    "probs = [symp[a,b,c,x,z] for a, b, c, x, z in product(range(oA), range(oB),\n",
    "                                                      range(oC), range(mA),\n",
    "                                                      range(mC))]\n",
    "corrs = np.zeros((oA, oB, oC, mA, mC), dtype=object)\n",
    "corrs[:,0,:,:,:] = [[[[(1 + (-1)**a*expA[x]+expB[0]+2*expB[1]+(-1)**c*expC[z]\n",
    "                     + (-1)**a*(expAB[x,0] + 2*expAB[x,1])\n",
    "                     + (-1)**c*(expBC[0,z] + 2*expBC[1,z])\n",
    "                     + (-1)**(a+c)*expA[x]*expC[z]\n",
    "                     + (-1)**(a+c)*(expABC[x,0,z] + 2*expABC[x,1,z]))/16\n",
    "                    for z in range(mC)] for x in range(mA)]\n",
    "                     for c in range(oC)] for a in range(oA)]\n",
    "corrs[:,1,:,:,:] = [[[[(1 + (-1)**a*expA[x]+expB[0]-2*expB[1]+(-1)**c*expC[z]\n",
    "                     + (-1)**a*(expAB[x,0] - 2*expAB[x,1])\n",
    "                     + (-1)**c*(expBC[0,z] - 2*expBC[1,z])\n",
    "                     + (-1)**(a+c)*expA[x]*expC[z]\n",
    "                     + (-1)**(a+c)*(expABC[x,0,z] - 2*expABC[x,1,z]))/16\n",
    "                    for z in range(mC)] for x in range(mA)]\n",
    "                     for c in range(oC)] for a in range(oA)]\n",
    "corrs[:,2,:,:,:] = [[[[(1 + (-1)**a*expA[x] - expB[0] + (-1)**c*expC[z]\n",
    "                     - (-1)**a*expAB[x,0] - (-1)**c*expBC[0,z]\n",
    "                     + (-1)**(a+c)*expA[x]*expC[z]\n",
    "                     - (-1)**(a+c)*expABC[x,0,z])/8\n",
    "                    for z in range(mC)] for x in range(mA)]\n",
    "                     for c in range(oC)] for a in range(oA)]\n",
    "\n",
    "corrs = [corrs[a,b,c,x,z] for a, b, c, x, z in product(range(oA), range(oB),\n",
    "                                                       range(oC), range(mA),\n",
    "                                                       range(mC))]"
   ]
  },
  {
   "cell_type": "markdown",
   "metadata": {},
   "source": [
    "### Equation F1"
   ]
  },
  {
   "cell_type": "code",
   "execution_count": 25,
   "metadata": {},
   "outputs": [
    {
     "name": "stdout",
     "output_type": "stream",
     "text": [
      "The problem is infeasible. Getting certificate...\n",
      "Primal or dual infeasibility certificate found\n"
     ]
    },
    {
     "data": {
      "text/latex": [
       "$\\displaystyle 2 \\langle{}A_{0}B_{1}C_{0}\\rangle{} - 2 \\langle{}A_{0}B_{1}C_{1}\\rangle{} + 2 \\langle{}A_{1}B_{0}C_{0}\\rangle{} + \\langle{}A_{1}B_{0}C_{1}\\rangle{} + \\langle{}A_{1}B_{0}\\rangle{} \\langle{}C_{1}\\rangle{} + \\langle{}B_{0}C_{0}\\rangle{} \\langle{}C_{1}\\rangle{} - \\langle{}B_{0}\\rangle{} - \\langle{}C_{0}\\rangle{} \\langle{}C_{1}\\rangle{} - 3$"
      ],
      "text/plain": [
       "2*\\langle{}A_{0}B_{1}C_{0}\\rangle{} - 2*\\langle{}A_{0}B_{1}C_{1}\\rangle{} + 2*\\langle{}A_{1}B_{0}C_{0}\\rangle{} + \\langle{}A_{1}B_{0}C_{1}\\rangle{} + \\langle{}A_{1}B_{0}\\rangle{}*\\langle{}C_{1}\\rangle{} + \\langle{}B_{0}C_{0}\\rangle{}*\\langle{}C_{1}\\rangle{} - \\langle{}B_{0}\\rangle{} - \\langle{}C_{0}\\rangle{}*\\langle{}C_{1}\\rangle{} - 3"
      ]
     },
     "execution_count": 25,
     "metadata": {},
     "output_type": "execute_result"
    }
   ],
   "source": [
    "[pinf, [ynorm, ymarginal]] = set_problem_C_NS(BSMprob(0.9212), solve=True)\n",
    "\n",
    "marginalsymb = np.zeros((oA,oB,oC,oC,mA,mC,mC), dtype=object)\n",
    "for c2 in range(oC):\n",
    "    for z2 in range(mC):\n",
    "        marginalsymb[:,:,:,c2,:,:,z2] = symp * np.sum(symp[:,:,c2,0,z2])\n",
    "           \n",
    "sp.nsimplify(sp.expand((\n",
    "                        8*(ymarginal @ marginalsymb.flatten() + sum(ynorm))\n",
    "                        ).subs(zip(probs, corrs))), tolerance=1e-6)"
   ]
  },
  {
   "cell_type": "markdown",
   "metadata": {},
   "source": [
    "### Equation F2"
   ]
  },
  {
   "cell_type": "code",
   "execution_count": 26,
   "metadata": {},
   "outputs": [
    {
     "name": "stdout",
     "output_type": "stream",
     "text": [
      "The problem is infeasible. Getting certificate...\n",
      "Primal or dual infeasibility certificate found\n"
     ]
    },
    {
     "data": {
      "text/latex": [
       "$\\displaystyle 2 \\langle{}A_{0}B_{1}C_{0}\\rangle{} - 2 \\langle{}A_{0}B_{1}C_{1}\\rangle{} + \\langle{}A_{1}B_{0}C_{0}\\rangle{} + 2 \\langle{}A_{1}B_{0}C_{1}\\rangle{} + \\langle{}A_{1}B_{0}\\rangle{} \\langle{}A_{1}\\rangle{} - \\langle{}A_{1}\\rangle{}^{2} + \\langle{}A_{1}\\rangle{} \\langle{}B_{0}C_{1}\\rangle{} + \\langle{}A_{1}\\rangle{} \\langle{}C_{0}\\rangle{} - \\langle{}A_{1}\\rangle{} \\langle{}C_{1}\\rangle{} - \\langle{}B_{0}\\rangle{} - 3$"
      ],
      "text/plain": [
       "2*\\langle{}A_{0}B_{1}C_{0}\\rangle{} - 2*\\langle{}A_{0}B_{1}C_{1}\\rangle{} + \\langle{}A_{1}B_{0}C_{0}\\rangle{} + 2*\\langle{}A_{1}B_{0}C_{1}\\rangle{} + \\langle{}A_{1}B_{0}\\rangle{}*\\langle{}A_{1}\\rangle{} - \\langle{}A_{1}\\rangle{}**2 + \\langle{}A_{1}\\rangle{}*\\langle{}B_{0}C_{1}\\rangle{} + \\langle{}A_{1}\\rangle{}*\\langle{}C_{0}\\rangle{} - \\langle{}A_{1}\\rangle{}*\\langle{}C_{1}\\rangle{} - \\langle{}B_{0}\\rangle{} - 3"
      ]
     },
     "execution_count": 26,
     "metadata": {},
     "output_type": "execute_result"
    }
   ],
   "source": [
    "[pinf, [ynorm, ymarginal]] = set_problem_NS_C(BSMprob(0.9212), solve=True)\n",
    "\n",
    "marginalsymb = np.zeros((oA,oA,oB,oC,mA,mA,mC), dtype=object)\n",
    "for a2 in range(oA):\n",
    "    for x2 in range(mA):\n",
    "        marginalsymb[:,a2,:,:,:,x2,:] = symp * np.sum(symp[a2,:,:,x2,0])\n",
    "            \n",
    "sp.nsimplify(sp.expand((\n",
    "                        8*(ymarginal @ marginalsymb.flatten() + sum(ynorm))\n",
    "                        ).subs(zip(probs, corrs))), tolerance=1e-6)"
   ]
  },
  {
   "cell_type": "code",
   "execution_count": null,
   "metadata": {},
   "outputs": [],
   "source": []
  }
 ],
 "metadata": {
  "kernelspec": {
   "display_name": "Python 3",
   "language": "python",
   "name": "python3"
  },
  "language_info": {
   "codemirror_mode": {
    "name": "ipython",
    "version": 3
   },
   "file_extension": ".py",
   "mimetype": "text/x-python",
   "name": "python",
   "nbconvert_exporter": "python",
   "pygments_lexer": "ipython3",
   "version": "3.8.8"
  }
 },
 "nbformat": 4,
 "nbformat_minor": 4
}
